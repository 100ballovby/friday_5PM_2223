{
 "cells": [
  {
   "cell_type": "markdown",
   "metadata": {
    "collapsed": true
   },
   "source": [
    "# Списки\n",
    "\n",
    "<p style=\"font-size: 18px;\">Список представляет собой структуру данных, которая может содержать неограниченное количество элементов. Элементы могут быть любого типа данных. При объявлении списка указывать длину не нужно. Все элементы разделяются между собой запятыми.</p>\n",
    "\n",
    "<p style=\"font-size: 18px;\"><b>Массив</b> - фактически это список, но есть ряд ограничений:</p>\n",
    "\n",
    "<ul style=\"font-size: 18px;\">\n",
    "    <li>Можно хранить только ОДИН тип данных (только числа, только дроби, только строки);</li>\n",
    "    <li>Размер массива ограничен и нужно указывать длину при объявлении.</li>\n",
    "</ul>"
   ]
  },
  {
   "cell_type": "code",
   "execution_count": 23,
   "metadata": {},
   "outputs": [
    {
     "name": "stdout",
     "output_type": "stream",
     "text": [
      "<class 'list'>\n"
     ]
    }
   ],
   "source": [
    "students = []\n",
    "\n",
    "print(type(students))  # <class 'list'>"
   ]
  },
  {
   "cell_type": "markdown",
   "metadata": {},
   "source": [
    "<p style=\"font-size: 18px;\">Списки можно создавать пустыми и затем их наполнять, можно сразу <b>инициализировать</b>. Инициализация - это ообъявление имени списка и наполнение его сразу же.</p>\n",
    "\n",
    "<p style=\"font-size: 18px;\">Чтобы наполнить список используются специальный метод - <code>.append(element)</code>. Аргумент <code>element</code> будет добавлен в конец списка:</p>"
   ]
  },
  {
   "cell_type": "code",
   "execution_count": 24,
   "metadata": {},
   "outputs": [
    {
     "name": "stdout",
     "output_type": "stream",
     "text": [
      "['Alice', 'Mark']\n"
     ]
    }
   ],
   "source": [
    "students.append('Alice')\n",
    "students.append('Mark')\n",
    "print(students)"
   ]
  },
  {
   "cell_type": "markdown",
   "metadata": {},
   "source": [
    "<p style=\"font-size: 18px;\">Списки являются изменяемыми объектами и в них присутствует система индексов.</p>"
   ]
  },
  {
   "cell_type": "code",
   "execution_count": 25,
   "metadata": {},
   "outputs": [
    {
     "name": "stdout",
     "output_type": "stream",
     "text": [
      "Alice\n"
     ]
    }
   ],
   "source": [
    "print(students[0])"
   ]
  },
  {
   "cell_type": "markdown",
   "metadata": {},
   "source": [
    "<p style=\"font-size: 18px;\">Элементы списка можно менять, для этого нужно обратиться к элементу по индексу и присвоить ему новое значение.</p>"
   ]
  },
  {
   "cell_type": "code",
   "execution_count": 26,
   "metadata": {},
   "outputs": [
    {
     "name": "stdout",
     "output_type": "stream",
     "text": [
      "['Alice', 'Alex']\n"
     ]
    }
   ],
   "source": [
    "students[1] = 'Alex'\n",
    "print(students)"
   ]
  },
  {
   "cell_type": "markdown",
   "metadata": {},
   "source": [
    "## Наполнение списков \n",
    "\n",
    "<p style=\"font-size: 18px;\">Наполнить список можно двумя способами:</p>\n",
    "\n",
    "<ul style=\"font-size: 18px;\">\n",
    "    <li>Наполнение вручную;</li>\n",
    "    <li>Наполнение списка циклом (с пользовательским вводом или без него).</li>\n",
    "</ul>\n",
    "\n",
    "<p style=\"font-size: 18px;\">Создадим список и наполоним его числами с клавиатуры:</p>"
   ]
  },
  {
   "cell_type": "code",
   "execution_count": 27,
   "metadata": {},
   "outputs": [
    {
     "name": "stdout",
     "output_type": "stream",
     "text": [
      "[44, 3, 2, 12, 6]\n"
     ]
    }
   ],
   "source": [
    "numbers = []\n",
    "\n",
    "for i in range(5):\n",
    "    num = int(input('Введи число: '))\n",
    "    numbers.append(num)\n",
    "    \n",
    "print(numbers)"
   ]
  },
  {
   "cell_type": "code",
   "execution_count": 28,
   "metadata": {},
   "outputs": [
    {
     "name": "stdout",
     "output_type": "stream",
     "text": [
      "[1, 4, 9, 16, 25, 36, 49, 64, 81, 100]\n"
     ]
    }
   ],
   "source": [
    "numbers = []\n",
    "\n",
    "for i in range(1, 11):\n",
    "    numbers.append(i ** 2)\n",
    "    \n",
    "print(numbers)"
   ]
  },
  {
   "cell_type": "markdown",
   "metadata": {},
   "source": [
    "## Перебор списка\n",
    "\n",
    "<p style=\"font-size: 18px;\">Перебрать список - означает просмотреть циклом каждый элемент.</p>\n",
    "\n",
    "<p style=\"font-size: 18px;\">Просматривать элементы списка можно либо по индексам, либо напрямую выводить их циклом <code>for</code>, так как точно так же, как и строчки, список можно передать как последовательность для этого цикла.</p>"
   ]
  },
  {
   "cell_type": "code",
   "execution_count": 29,
   "metadata": {},
   "outputs": [
    {
     "name": "stdout",
     "output_type": "stream",
     "text": [
      "19, 20, 12, 100, 8, -3, 2, 0, \n",
      "19, 20, 12, 100, 8, -3, 2, 0, "
     ]
    }
   ],
   "source": [
    "list_1 = [19, 20, 12, 100, 8, -3, 2, 0]\n",
    "\n",
    "# через индексы \n",
    "for i in range(len(list_1)):  # количество повторений цикла = длине списка \n",
    "    print(list_1[i], end=', ')\n",
    "    \n",
    "print()\n",
    "\n",
    "# напрямую в цикле \n",
    "for element in list_1:\n",
    "    print(element, end=', ')"
   ]
  },
  {
   "cell_type": "markdown",
   "metadata": {},
   "source": [
    "## Задача 1. Наибольшее число в списке\n",
    "\n",
    "<p style=\"font-size: 18px;\">Необходимо создать список и найти в нем самое большое число.</p>"
   ]
  },
  {
   "cell_type": "code",
   "execution_count": 30,
   "metadata": {},
   "outputs": [
    {
     "name": "stdout",
     "output_type": "stream",
     "text": [
      "100\n",
      "100\n"
     ]
    }
   ],
   "source": [
    "list_1 = [19, 20, 12, 100, 8, -3, 2, 0]\n",
    "\n",
    "maximum = list_1[0] \n",
    "for i in range(len(list_1)):\n",
    "    if maximum < list_1[i]:\n",
    "        maximum = list_1[i]\n",
    "        \n",
    "print(maximum)\n",
    "\n",
    "maximum = list_1[0] \n",
    "for i in list_1:\n",
    "    if maximum < i:\n",
    "        maximum = i\n",
    "        \n",
    "print(maximum)"
   ]
  },
  {
   "cell_type": "markdown",
   "metadata": {},
   "source": [
    "<p style=\"font-size: 18px;\">Есть решение проще. Можно использовать функцию, которая сама найдет самый большой элемент - <code>max(elements)</code>.</p>"
   ]
  },
  {
   "cell_type": "code",
   "execution_count": 31,
   "metadata": {},
   "outputs": [
    {
     "name": "stdout",
     "output_type": "stream",
     "text": [
      "100\n"
     ]
    }
   ],
   "source": [
    "list_1 = [19, 20, 12, 100, 8, -3, 2, 0]\n",
    "\n",
    "print(max(list_1))"
   ]
  },
  {
   "cell_type": "markdown",
   "metadata": {},
   "source": [
    "## Задача 2. Сумма чисел\n",
    "\n",
    "<p style=\"font-size: 18px;\">Напишите программу, которя складывает все элементы списка и выводит общую сумму на экран.</p>"
   ]
  },
  {
   "cell_type": "code",
   "execution_count": 32,
   "metadata": {},
   "outputs": [
    {
     "name": "stdout",
     "output_type": "stream",
     "text": [
      "158\n"
     ]
    }
   ],
   "source": [
    "list_1 = [19, 20, 12, 100, 8, -3, 2, 0]\n",
    "\n",
    "summ = 0\n",
    "for i in range(len(list_1)):\n",
    "    summ = summ + list_1[i]\n",
    "\n",
    "print(summ)"
   ]
  },
  {
   "cell_type": "markdown",
   "metadata": {},
   "source": [
    "<p style=\"font-size: 18px;\">Есть решение проще. Можно использовать функцию, которая сама посчитает сумму элементов - <code>sum(elements)</code>.</p>"
   ]
  },
  {
   "cell_type": "code",
   "execution_count": 33,
   "metadata": {},
   "outputs": [
    {
     "name": "stdout",
     "output_type": "stream",
     "text": [
      "158\n"
     ]
    }
   ],
   "source": [
    "list_1 = [19, 20, 12, 100, 8, -3, 2, 0]\n",
    "\n",
    "print(sum(list_1))"
   ]
  },
  {
   "cell_type": "markdown",
   "metadata": {},
   "source": [
    "## Задача 3. Среднее арифметическое"
   ]
  },
  {
   "cell_type": "code",
   "execution_count": 34,
   "metadata": {},
   "outputs": [
    {
     "name": "stdout",
     "output_type": "stream",
     "text": [
      "19.75\n"
     ]
    }
   ],
   "source": [
    "list_1 = [19, 20, 12, 100, 8, -3, 2, 0]\n",
    "\n",
    "summ = 0\n",
    "for i in range(len(list_1)):\n",
    "    summ = summ + list_1[i]\n",
    "\n",
    "mid = summ / len(list_1)\n",
    "print(mid)"
   ]
  },
  {
   "cell_type": "code",
   "execution_count": 35,
   "metadata": {},
   "outputs": [
    {
     "name": "stdout",
     "output_type": "stream",
     "text": [
      "19.75\n"
     ]
    }
   ],
   "source": [
    "list_1 = [19, 20, 12, 100, 8, -3, 2, 0]\n",
    "\n",
    "print(sum(list_1) / len(list_1))"
   ]
  },
  {
   "cell_type": "code",
   "execution_count": 35,
   "metadata": {},
   "outputs": [],
   "source": []
  }
 ],
 "metadata": {
  "kernelspec": {
   "display_name": "Python 3 (ipykernel)",
   "language": "python",
   "name": "python3"
  },
  "language_info": {
   "codemirror_mode": {
    "name": "ipython",
    "version": 3
   },
   "file_extension": ".py",
   "mimetype": "text/x-python",
   "name": "python",
   "nbconvert_exporter": "python",
   "pygments_lexer": "ipython3",
   "version": "3.10.4"
  }
 },
 "nbformat": 4,
 "nbformat_minor": 1
}
