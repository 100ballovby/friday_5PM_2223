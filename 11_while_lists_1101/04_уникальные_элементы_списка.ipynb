{
 "cells": [
  {
   "cell_type": "markdown",
   "metadata": {
    "collapsed": true
   },
   "source": [
    "# Наполнение списков уникальными элементами\n",
    "\n",
    "<p style=\"font-size: 18px; line-height: 1.8\">Наполнить список уникальными элементами - значит сделать так, чтобы все числа, которые есть в списке, встречались там ровно 1 раз (без повторов).</p>\n",
    "\n",
    "<p style=\"font-size: 18px; line-height: 1.8\">Суть задачи - проверять наличие элемента в списке до того, как вы этот элемент туда запишете:</p>\n",
    "\n",
    "<p style=\"font-size: 18px; line-height: 1.8\">В цикле на определенное количество повторений, ввести условие: <br><code>if n not <b>in</b> spisok: ...</code>.</p>\n",
    "\n",
    "<p style=\"font-size: 18px; line-height: 1.8\">Удобство Python  в том, что у него есть волшебный оператор <code>in</code>, который способен проверить наличие одного элемента внутри последовательности элементов. Практически ни один язык программирования на подобное не способен.</p>\n",
    "\n",
    "<p style=\"font-size: 18px; line-height: 1.8\">Если мы возьмем цикл <code>for</code>, в принципе, получится решит задачу и наполнить список уникальными элементами. Каждый элемент мы будем генерировать через библиотеку <code>random</code>.</p>"
   ]
  },
  {
   "cell_type": "code",
   "execution_count": 25,
   "metadata": {},
   "outputs": [],
   "source": [
    "import random as r"
   ]
  },
  {
   "cell_type": "markdown",
   "metadata": {},
   "source": [
    "<p style=\"font-size: 18px; line-height: 1.8\">В цикле мне нужно будет генерировать случайное число, проверять его наличие в списке и, если его там нет, добавлять.</p>"
   ]
  },
  {
   "cell_type": "code",
   "execution_count": 26,
   "metadata": {},
   "outputs": [
    {
     "name": "stdout",
     "output_type": "stream",
     "text": [
      "[7, 2, 4, 10, 5, 3, 9, 11]\n"
     ]
    }
   ],
   "source": [
    "lst = []\n",
    "for i in range(10):\n",
    "    r_num = r.randint(1, 11)\n",
    "    if r_num not in lst:\n",
    "        lst.append(r_num)\n",
    "        \n",
    "print(lst)"
   ]
  },
  {
   "cell_type": "markdown",
   "metadata": {},
   "source": [
    "<p style=\"font-size: 18px; line-height: 1.8\">Вы не добьетесь опредленного количества чисел в списке с циклом <code>for</code>, потому что ему все равно на ваше условие. Счетные циклы не станут увеличивать количество повторений только потому что в их теле есть условие или какая-то управляющая структура. Если ему написать, что нужно повториться 10 раз, он повторится 10 раз и ни разом более.</p>\n",
    "\n",
    "<p style=\"font-size: 18px; line-height: 1.8\">Можно посмотреть, что происходит в цикле в момент его работы, добавив несколько лишних принтов.</p>"
   ]
  },
  {
   "cell_type": "code",
   "execution_count": 27,
   "metadata": {},
   "outputs": [
    {
     "name": "stdout",
     "output_type": "stream",
     "text": [
      "i = 1 r_num = 2\n",
      "i = 2 r_num = 10\n",
      "i = 3 r_num = 7\n",
      "i = 4 r_num = 9\n",
      "i = 5 r_num = 7\n",
      "i = 6 r_num = 6\n",
      "i = 7 r_num = 10\n",
      "i = 8 r_num = 5\n",
      "i = 9 r_num = 1\n",
      "i = 10 r_num = 11\n",
      "[2, 10, 7, 9, 6, 5, 1, 11]\n"
     ]
    }
   ],
   "source": [
    "lst = []\n",
    "for i in range(10):\n",
    "    r_num = r.randint(1, 11)\n",
    "    print('i =', i+1, 'r_num =', r_num)\n",
    "    if r_num not in lst:\n",
    "        lst.append(r_num)\n",
    "        \n",
    "print(lst)"
   ]
  },
  {
   "cell_type": "markdown",
   "metadata": {},
   "source": [
    "<p style=\"font-size: 18px; line-height: 1.8\">Как видите, повторений действительно 10, но на повторениий <code>4</code>, на повторениях <code>6</code>, <code>7</code> и <code>10</code> были сгенерированы числа, которые в списке уже есть. В цикле поставлено условие, что число нужно добавить в список только в том случае, если его в этом списке (<code>r_num not in lst</code>). По этому условию числа 10, 10, 7, 7 не могли быть добавлены, потому что они уже есть в нашем списке.</p>\n",
    "\n",
    "<p style=\"font-size: 18px; line-height: 1.8\">Так как счетный цикл нам не помог, мы можем обратиться к циклу условному. Он будет работать немножко более правильно. Мы пропишем условие в объявлении цикла, что повторения нужно выполнять до того момента, пока количество элементов списка не станет равно желаемому.</p>"
   ]
  },
  {
   "cell_type": "code",
   "execution_count": 28,
   "metadata": {},
   "outputs": [
    {
     "name": "stdout",
     "output_type": "stream",
     "text": [
      "[5, 11, 2, 3, 10, 9, 1, 6, 4, 8, 7]\n"
     ]
    }
   ],
   "source": [
    "lst = []\n",
    "r_num = r.randint(1, 11)\n",
    "\n",
    "while len(lst) <= 10:\n",
    "    if r_num not in lst:\n",
    "        lst.append(r_num)\n",
    "    r_num = r.randint(1, 11)\n",
    "    \n",
    "print(lst)"
   ]
  },
  {
   "cell_type": "markdown",
   "metadata": {},
   "source": [
    "<p style=\"font-size: 18px; line-height: 1.8\">Цикл <code>while</code> способен увеличивать количество повторений, если это необходимо по условию, которое написано у него в объявлении. Его задача не выполнить что-то определенное количество раз, а работать до того момента, пока условие дает <code>true</code>. Если как и в прошлый раз добавить лишние принты, можно убедиться, что количество повторений цикла иногда гораздо больше, чем 10.</p>"
   ]
  },
  {
   "cell_type": "code",
   "execution_count": 29,
   "metadata": {},
   "outputs": [
    {
     "name": "stdout",
     "output_type": "stream",
     "text": [
      "i = 1 r_num = 1\n",
      "i = 2 r_num = 9\n",
      "i = 3 r_num = 6\n",
      "i = 4 r_num = 5\n",
      "i = 5 r_num = 10\n",
      "i = 6 r_num = 10\n",
      "i = 7 r_num = 3\n",
      "i = 8 r_num = 5\n",
      "i = 9 r_num = 3\n",
      "i = 10 r_num = 10\n",
      "i = 11 r_num = 4\n",
      "i = 12 r_num = 6\n",
      "i = 13 r_num = 6\n",
      "i = 14 r_num = 9\n",
      "i = 15 r_num = 3\n",
      "i = 16 r_num = 5\n",
      "i = 17 r_num = 6\n",
      "i = 18 r_num = 8\n",
      "i = 19 r_num = 5\n",
      "i = 20 r_num = 7\n",
      "i = 21 r_num = 5\n",
      "i = 22 r_num = 2\n",
      "[1, 9, 6, 5, 10, 3, 4, 8, 7, 2]\n"
     ]
    }
   ],
   "source": [
    "lst = []\n",
    "r_num = r.randint(1, 10)\n",
    "i = 1\n",
    "\n",
    "while len(lst) < 10:\n",
    "    print('i =', i, 'r_num =', r_num)\n",
    "    if r_num not in lst:\n",
    "        lst.append(r_num)\n",
    "    r_num = r.randint(1, 10)\n",
    "    i += 1\n",
    "    \n",
    "print(lst)"
   ]
  },
  {
   "cell_type": "markdown",
   "metadata": {},
   "source": [
    "<p style=\"font-size: 18px; line-height: 1.8\">Как видите, количество повторений гораздо больше, чем количество чисел, которое мне было нужно в списке. Условные циклы будут увеличивать количество повторений. И в данном случае это единственный способ, который позволит вам наполнить список уникальными значениями в заданном диапазоне.</p>\n",
    "\n",
    "<p style=\"font-size: 18px; line-height: 1.8\"><b>Есть одно но</b>. Если диапазон генерации случайных чисел будет меньше, чем необходимое количество чисел в списке, вы напишите программу, которая никогда не остановится.</p>"
   ]
  },
  {
   "cell_type": "code",
   "execution_count": 30,
   "metadata": {},
   "outputs": [
    {
     "ename": "KeyboardInterrupt",
     "evalue": "",
     "output_type": "error",
     "traceback": [
      "\u001B[0;31m---------------------------------------------------------------------------\u001B[0m",
      "\u001B[0;31mKeyboardInterrupt\u001B[0m                         Traceback (most recent call last)",
      "Cell \u001B[0;32mIn [30], line 7\u001B[0m\n\u001B[1;32m      5\u001B[0m     \u001B[38;5;28;01mif\u001B[39;00m r_num \u001B[38;5;129;01mnot\u001B[39;00m \u001B[38;5;129;01min\u001B[39;00m lst:\n\u001B[1;32m      6\u001B[0m         lst\u001B[38;5;241m.\u001B[39mappend(r_num)\n\u001B[0;32m----> 7\u001B[0m     r_num \u001B[38;5;241m=\u001B[39m r\u001B[38;5;241m.\u001B[39mrandint(\u001B[38;5;241m1\u001B[39m, \u001B[38;5;241m5\u001B[39m)\n\u001B[1;32m      9\u001B[0m \u001B[38;5;28mprint\u001B[39m(lst)\n",
      "File \u001B[0;32m/Library/Frameworks/Python.framework/Versions/3.10/lib/python3.10/random.py:370\u001B[0m, in \u001B[0;36mRandom.randint\u001B[0;34m(self, a, b)\u001B[0m\n\u001B[1;32m    366\u001B[0m \u001B[38;5;28;01mdef\u001B[39;00m \u001B[38;5;21mrandint\u001B[39m(\u001B[38;5;28mself\u001B[39m, a, b):\n\u001B[1;32m    367\u001B[0m     \u001B[38;5;124;03m\"\"\"Return random integer in range [a, b], including both end points.\u001B[39;00m\n\u001B[1;32m    368\u001B[0m \u001B[38;5;124;03m    \"\"\"\u001B[39;00m\n\u001B[0;32m--> 370\u001B[0m     \u001B[38;5;28;01mreturn\u001B[39;00m \u001B[38;5;28;43mself\u001B[39;49m\u001B[38;5;241;43m.\u001B[39;49m\u001B[43mrandrange\u001B[49m\u001B[43m(\u001B[49m\u001B[43ma\u001B[49m\u001B[43m,\u001B[49m\u001B[43m \u001B[49m\u001B[43mb\u001B[49m\u001B[38;5;241;43m+\u001B[39;49m\u001B[38;5;241;43m1\u001B[39;49m\u001B[43m)\u001B[49m\n",
      "File \u001B[0;32m/Library/Frameworks/Python.framework/Versions/3.10/lib/python3.10/random.py:352\u001B[0m, in \u001B[0;36mRandom.randrange\u001B[0;34m(self, start, stop, step)\u001B[0m\n\u001B[1;32m    350\u001B[0m \u001B[38;5;28;01mif\u001B[39;00m istep \u001B[38;5;241m==\u001B[39m \u001B[38;5;241m1\u001B[39m:\n\u001B[1;32m    351\u001B[0m     \u001B[38;5;28;01mif\u001B[39;00m width \u001B[38;5;241m>\u001B[39m \u001B[38;5;241m0\u001B[39m:\n\u001B[0;32m--> 352\u001B[0m         \u001B[38;5;28;01mreturn\u001B[39;00m istart \u001B[38;5;241m+\u001B[39m \u001B[38;5;28;43mself\u001B[39;49m\u001B[38;5;241;43m.\u001B[39;49m\u001B[43m_randbelow\u001B[49m\u001B[43m(\u001B[49m\u001B[43mwidth\u001B[49m\u001B[43m)\u001B[49m\n\u001B[1;32m    353\u001B[0m     \u001B[38;5;28;01mraise\u001B[39;00m \u001B[38;5;167;01mValueError\u001B[39;00m(\u001B[38;5;124m\"\u001B[39m\u001B[38;5;124mempty range for randrange() (\u001B[39m\u001B[38;5;132;01m%d\u001B[39;00m\u001B[38;5;124m, \u001B[39m\u001B[38;5;132;01m%d\u001B[39;00m\u001B[38;5;124m, \u001B[39m\u001B[38;5;132;01m%d\u001B[39;00m\u001B[38;5;124m)\u001B[39m\u001B[38;5;124m\"\u001B[39m \u001B[38;5;241m%\u001B[39m (istart, istop, width))\n\u001B[1;32m    355\u001B[0m \u001B[38;5;66;03m# Non-unit step argument supplied.\u001B[39;00m\n",
      "File \u001B[0;32m/Library/Frameworks/Python.framework/Versions/3.10/lib/python3.10/random.py:246\u001B[0m, in \u001B[0;36mRandom._randbelow_with_getrandbits\u001B[0;34m(self, n)\u001B[0m\n\u001B[1;32m    244\u001B[0m getrandbits \u001B[38;5;241m=\u001B[39m \u001B[38;5;28mself\u001B[39m\u001B[38;5;241m.\u001B[39mgetrandbits\n\u001B[1;32m    245\u001B[0m k \u001B[38;5;241m=\u001B[39m n\u001B[38;5;241m.\u001B[39mbit_length()  \u001B[38;5;66;03m# don't use (n-1) here because n can be 1\u001B[39;00m\n\u001B[0;32m--> 246\u001B[0m r \u001B[38;5;241m=\u001B[39m \u001B[43mgetrandbits\u001B[49m\u001B[43m(\u001B[49m\u001B[43mk\u001B[49m\u001B[43m)\u001B[49m  \u001B[38;5;66;03m# 0 <= r < 2**k\u001B[39;00m\n\u001B[1;32m    247\u001B[0m \u001B[38;5;28;01mwhile\u001B[39;00m r \u001B[38;5;241m>\u001B[39m\u001B[38;5;241m=\u001B[39m n:\n\u001B[1;32m    248\u001B[0m     r \u001B[38;5;241m=\u001B[39m getrandbits(k)\n",
      "\u001B[0;31mKeyboardInterrupt\u001B[0m: "
     ]
    }
   ],
   "source": [
    "lst = []\n",
    "r_num = r.randint(1, 5)\n",
    "\n",
    "while len(lst) < 10:\n",
    "    if r_num not in lst:\n",
    "        lst.append(r_num)\n",
    "    r_num = r.randint(1, 5)\n",
    "    \n",
    "print(lst)"
   ]
  },
  {
   "cell_type": "markdown",
   "metadata": {},
   "source": [
    "<p style=\"font-size: 18px; line-height: 1.8\">Цикл написанный выше никогда не сможет остановиться, потому что в условии сказано, что длина списка должна быть 10 элементов, а количество уникальных элементов при этом 5. Условие цикла никогда не может быть выполонено, соответственно повторения будут выполняться бесконечно.</p>"
   ]
  }
 ],
 "metadata": {
  "kernelspec": {
   "display_name": "Python 3 (ipykernel)",
   "language": "python",
   "name": "python3"
  },
  "language_info": {
   "codemirror_mode": {
    "name": "ipython",
    "version": 3
   },
   "file_extension": ".py",
   "mimetype": "text/x-python",
   "name": "python",
   "nbconvert_exporter": "python",
   "pygments_lexer": "ipython3",
   "version": "3.10.4"
  }
 },
 "nbformat": 4,
 "nbformat_minor": 1
}
