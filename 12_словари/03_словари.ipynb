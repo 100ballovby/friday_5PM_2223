{
 "cells": [
  {
   "cell_type": "markdown",
   "metadata": {
    "collapsed": true,
    "pycharm": {
     "is_executing": true
    }
   },
   "source": [
    "## Словари\n",
    "\n",
    "<p><b>Словари</b> - структура данных, объединяющая связанную информацию.</p>\n",
    "\n",
    "<p>Словарь является набором пар <code>key: value</code>. В словарях полностью отстуствуют индексы, обращение в словарях происходит по ключам.</p>\n",
    "\n",
    "<p>По умолчанию словарь считается <b>неизменяемым</b> объектом. Их нельзя сортировать, в них тяжело что-то добавлять, неудобно удалять.</p>\n",
    "\n",
    "<p>Словари в Python заключаются в фигурные скобки <code>{}</code>, а пары разделяются символом запятой <code>,</code>.</p>"
   ]
  },
  {
   "cell_type": "code",
   "execution_count": 1,
   "metadata": {},
   "outputs": [
    {
     "name": "stdout",
     "output_type": "stream",
     "text": [
      "<class 'dict'>\n"
     ]
    }
   ],
   "source": [
    "my_dictionary = {\n",
    "    'key1': 'value1',\n",
    "    'key2': 'value2',\n",
    "    'key3': 'value3',\n",
    "}\n",
    "\n",
    "print(type(my_dictionary))"
   ]
  },
  {
   "cell_type": "markdown",
   "metadata": {},
   "source": [
    "### Обращение к значениям словаря\n",
    "\n",
    "<p>Так как словари не имеют индексов, обратиться по порядковому номеру не получится. Для обращения к значениям словарей используется система: <code>dictionary[<b>key</b>]</code>.</p>"
   ]
  },
  {
   "cell_type": "code",
   "execution_count": 2,
   "metadata": {},
   "outputs": [
    {
     "name": "stdout",
     "output_type": "stream",
     "text": [
      "value3\n"
     ]
    }
   ],
   "source": [
    "print(my_dictionary['key3'])"
   ]
  },
  {
   "cell_type": "markdown",
   "metadata": {},
   "source": [
    "### Добавление пары ключ-значение\n",
    "\n",
    "<p>Вы не можете добавлять отдельно ключи и отдельно значения. Добавляется это только парами и никак иначе. Для добавления пары необходимо использовать следующий тип обращения: <code>dictionary[<b>new_key</b>] = <b>new_value</b></code>.</p>\n",
    "\n",
    "<p>Новые пары ключ-значение добавляются в конец словаря.</p>"
   ]
  },
  {
   "cell_type": "code",
   "execution_count": null,
   "metadata": {},
   "outputs": [],
   "source": [
    "my_dictionary['car'] = 'tesla'\n",
    "print(my_dictionary)"
   ]
  },
  {
   "cell_type": "markdown",
   "metadata": {},
   "source": [
    "### Замена (переназначение) значения\n",
    "\n",
    "<p>Вы не можете заменять названия ключей, потому что они должны оставаться статичными. Но вы можете переназначать значения ключей.</p>\n",
    "\n",
    "<p>Чтобы заменить значение ключа нужно написать: <code>dictionary[<b>old_key</b>] = <b>new_value</b></code>.</p>"
   ]
  },
  {
   "cell_type": "code",
   "execution_count": 4,
   "metadata": {},
   "outputs": [
    {
     "name": "stdout",
     "output_type": "stream",
     "text": [
      "{'key1': 'value1', 'key2': 'меня заменили', 'key3': 'value3', 'car': 'tesla'}\n"
     ]
    }
   ],
   "source": [
    "my_dictionary['key2'] = 'меня заменили'\n",
    "print(my_dictionary)"
   ]
  },
  {
   "cell_type": "markdown",
   "metadata": {},
   "source": [
    "### Удаление пары ключ-значение\n",
    "\n",
    "<p>Отдельно удалить ключ или значение невозможно. Вы можете удалить только всю пару. Потому что по отдельности ни ключ, ни значение в словаре находиться не могут.</p>\n",
    "\n",
    "<p>Чтобы удалить пары ключ-значение, необходимо использовать метод <code>del</code>.</p>"
   ]
  },
  {
   "cell_type": "code",
   "execution_count": 5,
   "metadata": {},
   "outputs": [
    {
     "name": "stdout",
     "output_type": "stream",
     "text": [
      "{'key2': 'меня заменили', 'key3': 'value3', 'car': 'tesla'}\n"
     ]
    }
   ],
   "source": [
    "del my_dictionary['key1']\n",
    "print(my_dictionary)"
   ]
  },
  {
   "cell_type": "markdown",
   "metadata": {},
   "source": [
    "### Упражнение 1.\n",
    "\n",
    "<p>1. Человек: используйте словарь для сохранения информации об известном вам человеке . Сохраните имя, фамилию, возраст и город, в котором живет этот человек . Словарь должен содержать ключи с такими именами, как <code>first_name</code>, <code>last_name</code>, <code>age</code> и <code>city</code>. Выведите каждый фрагмент информации, хранящийся в словаре.</p>"
   ]
  },
  {
   "cell_type": "code",
   "execution_count": 6,
   "metadata": {},
   "outputs": [
    {
     "name": "stdout",
     "output_type": "stream",
     "text": [
      "Demid Raxin\n",
      "14\n",
      "Minsk\n"
     ]
    }
   ],
   "source": [
    "person = {\n",
    "    'first_name': 'Demid',\n",
    "    'last_name': 'Raxin',\n",
    "    'age': 14,\n",
    "    'city': 'Minsk'\n",
    "}\n",
    "\n",
    "print(person['first_name'], person['last_name'])\n",
    "print(person['age'])\n",
    "print(person['city'])"
   ]
  },
  {
   "cell_type": "code",
   "execution_count": null,
   "metadata": {},
   "outputs": [],
   "source": []
  }
 ],
 "metadata": {
  "kernelspec": {
   "display_name": "Python 3 (ipykernel)",
   "language": "python",
   "name": "python3"
  },
  "language_info": {
   "codemirror_mode": {
    "name": "ipython",
    "version": 3
   },
   "file_extension": ".py",
   "mimetype": "text/x-python",
   "name": "python",
   "nbconvert_exporter": "python",
   "pygments_lexer": "ipython3",
   "version": "3.7.7"
  }
 },
 "nbformat": 4,
 "nbformat_minor": 1
}