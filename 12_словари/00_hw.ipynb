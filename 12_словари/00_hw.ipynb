{
 "cells": [
  {
   "cell_type": "markdown",
   "metadata": {
    "collapsed": true,
    "pycharm": {
     "is_executing": true
    }
   },
   "source": [
    "# ДЗ\n",
    "\n",
    "<p>Задача 1.</p> \n",
    "<p>В списке из n целочисленных чисел:<Br>\n",
    "- вычислить произведение элементов с четными индексами <br>\n",
    "    - сумму элементов списка, расположенных до последнего положительного элемента списка. </p>\n"
   ]
  },
  {
   "cell_type": "code",
   "execution_count": 2,
   "metadata": {},
   "outputs": [
    {
     "name": "stdout",
     "output_type": "stream",
     "text": [
      "1072512\n",
      "1072512\n"
     ]
    }
   ],
   "source": [
    "num_list = [4, -2, 8, 1, -19, 7, -7, 14, 21, -13, 12, 11]\n",
    "\n",
    "mult = 1\n",
    "\n",
    "for i in range(0, len(num_list), 2):  # 0, 2, 4, 6....длина списка \n",
    "    mult *= num_list[i]  # умножаю каждый элемент списка с индексом i \n",
    "    \n",
    "print(mult)\n",
    "\n",
    "mult = 1\n",
    "\n",
    "for i in range(len(num_list)):  # повторить <длина списка> раз\n",
    "    if i % 2 == 0:  # если i четное число\n",
    "        mult *= num_list[i]  # умножаю каждый элемент списка с индексом i \n",
    "    \n",
    "print(mult)\n",
    "\n"
   ]
  },
  {
   "cell_type": "markdown",
   "metadata": {},
   "source": [
    "<p>Чтобы найти последний отрицательный (или последний положительный) элемент списка, достаточно просто пройтись по списку с \"обратной\" стороны.</p>"
   ]
  },
  {
   "cell_type": "code",
   "execution_count": 3,
   "metadata": {},
   "outputs": [
    {
     "name": "stdout",
     "output_type": "stream",
     "text": [
      "37\n"
     ]
    }
   ],
   "source": [
    "num_list = [4, -2, 8, 1, -19, 7, -7, 14, 21, -13, 12, 11, -8, -3]\n",
    "\n",
    "summ = 0\n",
    "last_pos = 0  # индекс последнего положительного элемента = 0\n",
    "for i in range(len(num_list) - 1, -1, -1):  # просматривать список с индекса <длина-1>, ДО -1 (0 включительно) с шагом -1 \n",
    "    if num_list[i] > 0:\n",
    "        last_pos = i\n",
    "        break  # остановить поиск, когда нашли первый положительный элемент \n",
    "        \n",
    "for i in range(0, last_pos + 1):  # просмотреть список с 0 индекса, до индекса последнего положительного элемента \n",
    "    summ += num_list[i]\n",
    "    \n",
    "print(summ)\n"
   ]
  },
  {
   "cell_type": "markdown",
   "metadata": {},
   "source": [
    "<p> Задача 2.</p> \n",
    "<p>В списке из <code>n</code> целочисленных чисел:<br>\n",
    "- вычислить сумму положительных элементов списка <br>\n",
    "- сумму элементов списка, расположенных после последнего нуля в списке.</p>"
   ]
  },
  {
   "cell_type": "code",
   "execution_count": 5,
   "metadata": {},
   "outputs": [
    {
     "name": "stdout",
     "output_type": "stream",
     "text": [
      "20\n",
      "-2\n"
     ]
    }
   ],
   "source": [
    "l = [-3, 0, 4, 2, 0, -9, 14, -7]\n",
    "\n",
    "# сумма положительных \n",
    "summ = 0\n",
    "for i in range(len(l)): \n",
    "    if l[i] > 0:\n",
    "        summ += l[i]\n",
    "        \n",
    "print(summ)\n",
    "\n",
    "summ = 0\n",
    "last_zero = 0  # индекс последнего положительного элемента = 0\n",
    "for i in range(len(l) - 1, -1, -1):  # просматривать список с индекса <длина-1>, ДО -1 (0 включительно) с шагом -1 \n",
    "    if l[i] == 0:\n",
    "        last_zero = i\n",
    "        break  # остановить поиск, когда нашли первый положительный элемент \n",
    "        \n",
    "for i in range(last_zero, len(l)):  # просмотреть список с индекса последнего нуля до конца  \n",
    "    summ += l[i]\n",
    "    \n",
    "print(summ)"
   ]
  },
  {
   "cell_type": "code",
   "execution_count": null,
   "metadata": {},
   "outputs": [],
   "source": []
  }
 ],
 "metadata": {
  "kernelspec": {
   "display_name": "Python 3 (ipykernel)",
   "language": "python",
   "name": "python3"
  },
  "language_info": {
   "codemirror_mode": {
    "name": "ipython",
    "version": 3
   },
   "file_extension": ".py",
   "mimetype": "text/x-python",
   "name": "python",
   "nbconvert_exporter": "python",
   "pygments_lexer": "ipython3",
   "version": "3.10.4"
  }
 },
 "nbformat": 4,
 "nbformat_minor": 1
}
