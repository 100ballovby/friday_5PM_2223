{
 "cells": [
  {
   "cell_type": "markdown",
   "metadata": {
    "collapsed": true,
    "pycharm": {
     "is_executing": true
    }
   },
   "source": [
    "# Методы строк\n",
    "\n",
    "<p>Методы направлены на то, чтобы изменять или дополнять строку.</p>\n",
    "\n",
    "<p><code>.upper()</code> - метод приведения строки в верхний регистр.</p>"
   ]
  },
  {
   "cell_type": "code",
   "execution_count": 2,
   "metadata": {},
   "outputs": [
    {
     "name": "stdout",
     "output_type": "stream",
     "text": [
      "GREATRAKSIN@ICLOUD.COM\n"
     ]
    }
   ],
   "source": [
    "a = 'GreatRaksin@iCloud.com'\n",
    "print(a.upper())"
   ]
  },
  {
   "cell_type": "markdown",
   "metadata": {},
   "source": [
    "<p><code>.lower()</code> - метод приведения строки в нижний регистр.</p>"
   ]
  },
  {
   "cell_type": "code",
   "execution_count": 3,
   "metadata": {},
   "outputs": [
    {
     "name": "stdout",
     "output_type": "stream",
     "text": [
      "True\n",
      "greatraksin@icloud.com\n"
     ]
    }
   ],
   "source": [
    "print(a.lower() == 'greatraksin@icloud.com')\n",
    "print(a.lower())"
   ]
  },
  {
   "cell_type": "markdown",
   "metadata": {},
   "source": [
    "<p><code>.capitalize()</code> - метод приведения строки в нижний регистр и приведения первого символа строки в верхний регистр, если он буква.</p>"
   ]
  },
  {
   "cell_type": "code",
   "execution_count": 5,
   "metadata": {},
   "outputs": [
    {
     "name": "stdout",
     "output_type": "stream",
     "text": [
      "введи что-то: пРиВеТ, кАк, ДеЛа?\n",
      "пРиВеТ, кАк, ДеЛа?\n",
      "Привет, как, дела?\n"
     ]
    }
   ],
   "source": [
    "b = input('введи что-то: ')\n",
    "print(b)\n",
    "print(b.capitalize())"
   ]
  },
  {
   "cell_type": "markdown",
   "metadata": {},
   "source": [
    "## Методы проверки строк \n",
    "\n",
    "<p><code>.startswith()</code> - метод проверки символа или последовательности символов, с которой начинается строка.</p>\n",
    "<p><code>.endswith()</code> - метод проверки символа или последовательности символов, которыми заканчивается строка.</p>"
   ]
  },
  {
   "cell_type": "code",
   "execution_count": 10,
   "metadata": {},
   "outputs": [
    {
     "name": "stdout",
     "output_type": "stream",
     "text": [
      "Введи слово, которое начинается с буквы а, а заканчивается буквой с: ананас\n",
      "Молодец!\n"
     ]
    }
   ],
   "source": [
    "c = input('Введи слово, которое начинается с буквы а, а заканчивается буквой с: ')\n",
    "\n",
    "if c.startswith('ан') and c.endswith('ас'):\n",
    "    print('Молодец!')\n",
    "else:\n",
    "    print('Неправильно!')"
   ]
  },
  {
   "cell_type": "markdown",
   "metadata": {},
   "source": [
    "<p><code>.index(str)</code> - метод выведения индекса символа из строки.</p>"
   ]
  },
  {
   "cell_type": "code",
   "execution_count": 14,
   "metadata": {},
   "outputs": [
    {
     "name": "stdout",
     "output_type": "stream",
     "text": [
      "Индекс буквы \"п\":  12\n"
     ]
    }
   ],
   "source": [
    "d = 'Привет, как дела?'\n",
    "print('Индекс буквы \"п\": ', d.index('д'))"
   ]
  },
  {
   "cell_type": "markdown",
   "metadata": {},
   "source": [
    "<p><code>.isdigit()</code> - метод, который проверяет, состоит ли строка из цифр.</p>\n",
    "<p><code>.isalpha()</code> - метод, который проверяет, состоит ли строка из букв</p>\n",
    "<p><code>.isprintable()</code> - метод, который проверяет, состоит ли строка из печатных символов</p>"
   ]
  },
  {
   "cell_type": "code",
   "execution_count": 20,
   "metadata": {},
   "outputs": [
    {
     "name": "stdout",
     "output_type": "stream",
     "text": [
      "True\n",
      "True\n",
      "True\n"
     ]
    }
   ],
   "source": [
    "print('5'.isdigit())\n",
    "print('L'.isalpha())\n",
    "print('-'.isprintable())"
   ]
  },
  {
   "cell_type": "markdown",
   "metadata": {},
   "source": [
    "<p><code>.isprintable()</code> может определить, есть ли знаки препинания или пробелы в строке, но не может их посчитать, потмоу что за печатные символы он считает все, что вы можете написать с клаиатуры.</p>"
   ]
  },
  {
   "cell_type": "code",
   "execution_count": 22,
   "metadata": {},
   "outputs": [
    {
     "name": "stdout",
     "output_type": "stream",
     "text": [
      "Введи знак препинания: р\n",
      "р - это не знак препинания.\n"
     ]
    }
   ],
   "source": [
    "symbol = input('Введи знак препинания: ')\n",
    "symbols = '!?.,:;'\n",
    "\n",
    "if symbol in symbols:\n",
    "    print('Спасибо!')\n",
    "else:\n",
    "    print(symbol, '- это не знак препинания.')"
   ]
  },
  {
   "cell_type": "markdown",
   "metadata": {},
   "source": [
    "<p>В строках нельзя напрямую заменять символы на другие. Но для этого есть особый метод.</p>"
   ]
  },
  {
   "cell_type": "code",
   "execution_count": 23,
   "metadata": {},
   "outputs": [
    {
     "ename": "TypeError",
     "evalue": "'str' object does not support item assignment",
     "output_type": "error",
     "traceback": [
      "\u001B[0;31m---------------------------------------------------------------------------\u001B[0m",
      "\u001B[0;31mTypeError\u001B[0m                                 Traceback (most recent call last)",
      "\u001B[0;32m/var/folders/kg/wys5qw45109bn_kq6647wwzw0000gn/T/ipykernel_38682/3411061104.py\u001B[0m in \u001B[0;36m<module>\u001B[0;34m\u001B[0m\n\u001B[1;32m      1\u001B[0m \u001B[0ma\u001B[0m \u001B[0;34m=\u001B[0m \u001B[0;34m'мам'\u001B[0m\u001B[0;34m\u001B[0m\u001B[0;34m\u001B[0m\u001B[0m\n\u001B[0;32m----> 2\u001B[0;31m \u001B[0ma\u001B[0m\u001B[0;34m[\u001B[0m\u001B[0;36m1\u001B[0m\u001B[0;34m]\u001B[0m \u001B[0;34m=\u001B[0m \u001B[0;34m'о'\u001B[0m\u001B[0;34m\u001B[0m\u001B[0;34m\u001B[0m\u001B[0m\n\u001B[0m",
      "\u001B[0;31mTypeError\u001B[0m: 'str' object does not support item assignment"
     ]
    }
   ],
   "source": [
    "a = 'мам'\n",
    "a[1] = 'о'"
   ]
  },
  {
   "cell_type": "markdown",
   "metadata": {},
   "source": [
    "<p><code>.replace(что_меняем, на_что_меняем, количество_замен)</code> - метод замены символов строки на другие символы.</p>"
   ]
  },
  {
   "cell_type": "code",
   "execution_count": 24,
   "metadata": {},
   "outputs": [
    {
     "name": "stdout",
     "output_type": "stream",
     "text": [
      "малако\n"
     ]
    }
   ],
   "source": [
    "word = 'молоко'\n",
    "print(word.replace('о', 'а', 2))"
   ]
  },
  {
   "cell_type": "code",
   "execution_count": 25,
   "metadata": {},
   "outputs": [
    {
     "name": "stdout",
     "output_type": "stream",
     "text": [
      "Пока, Андрей!\n"
     ]
    }
   ],
   "source": [
    "print('Привет, Андрей!'.replace('Привет', 'Пока'))"
   ]
  }
 ],
 "metadata": {
  "kernelspec": {
   "display_name": "Python 3 (ipykernel)",
   "language": "python",
   "name": "python3"
  },
  "language_info": {
   "codemirror_mode": {
    "name": "ipython",
    "version": 3
   },
   "file_extension": ".py",
   "mimetype": "text/x-python",
   "name": "python",
   "nbconvert_exporter": "python",
   "pygments_lexer": "ipython3",
   "version": "3.9.4"
  }
 },
 "nbformat": 4,
 "nbformat_minor": 1
}
