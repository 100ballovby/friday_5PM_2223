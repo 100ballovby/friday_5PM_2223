{
 "cells": [
  {
   "cell_type": "markdown",
   "source": [
    "# Приведение типов данных. Задачи\n",
    "\n",
    "## Задача 1. Сумма трех чисел\n",
    "\n",
    "<p style=\"font-size: 16px\">Напишите программу, которая считывает три числа и выводит их сумму. Каждое число записано в отдельной переменной.</p>"
   ],
   "metadata": {
    "collapsed": false,
    "pycharm": {
     "name": "#%% md\n"
    }
   }
  },
  {
   "cell_type": "code",
   "execution_count": 14,
   "outputs": [
    {
     "name": "stdout",
     "output_type": "stream",
     "text": [
      "9\n"
     ]
    }
   ],
   "source": [
    "num1 = eval(input('Введите число: '))\n",
    "num2 = eval(input('Введите число: '))\n",
    "num3 = eval(input('Введите число: '))\n",
    "\n",
    "print(num1 + num2 + num3)"
   ],
   "metadata": {
    "collapsed": false,
    "pycharm": {
     "name": "#%%\n"
    }
   }
  },
  {
   "cell_type": "markdown",
   "source": [
    "<p style=\"font-size: 16px;\">Функция <code>eval()</code> в данном случае нужна для того, чтобы в переменную пользователь мог вписывать и целые числа, и десятичные дроби.</p>\n",
    "\n",
    "## Задача 2. Площадь прямоугольного треугольника\n",
    "\n",
    "<p style=\"font-size: 16px;\">Напишите программу, которая считывает длины двух катетов в прямоугольном треугольнике и выводит его площадь. Каждое число записано в отдельной переменной.</p>\n",
    "\n",
    "<p style=\"font-size: 16px;\">Формула нахождения площади: <code><b>1/2 * b * h</b></code></p>"
   ],
   "metadata": {
    "collapsed": false,
    "pycharm": {
     "name": "#%% md\n"
    }
   }
  },
  {
   "cell_type": "code",
   "execution_count": 15,
   "outputs": [
    {
     "name": "stdout",
     "output_type": "stream",
     "text": [
      "24.0\n"
     ]
    }
   ],
   "source": [
    "b = int(input('Введите основание: '))\n",
    "h = int(input('Введите высоту: '))\n",
    "\n",
    "print(0.5 * (b * h))"
   ],
   "metadata": {
    "collapsed": false,
    "pycharm": {
     "name": "#%%\n"
    }
   }
  },
  {
   "cell_type": "markdown",
   "source": [
    "## Задача 3. Дележ яблок\n",
    "\n",
    "<p style=\"font-size: 16px\"><code>n</code> школьников делят <code>k</code> яблок поровну, неделящийся остаток остается в корзинке. Сколько яблок достанется каждому школьнику? Сколько яблок останется в корзинке? Программа получает на вход числа <code>n</code> и <code>k</code> и должна вывести искомое количество яблок (два числа).</p>"
   ],
   "metadata": {
    "collapsed": false,
    "pycharm": {
     "name": "#%% md\n"
    }
   }
  },
  {
   "cell_type": "code",
   "execution_count": 16,
   "outputs": [
    {
     "name": "stdout",
     "output_type": "stream",
     "text": [
      "1 получит яблок каждый\n",
      "8 останется в корзинке\n"
     ]
    }
   ],
   "source": [
    "n = int(input('Сколько школьников? '))\n",
    "k = int(input('Сколько яблок? '))\n",
    "\n",
    "print(k // n, 'получит яблок каждый')\n",
    "print(k % n, 'останется в корзинке')"
   ],
   "metadata": {
    "collapsed": false,
    "pycharm": {
     "name": "#%%\n"
    }
   }
  },
  {
   "cell_type": "markdown",
   "source": [
    "## Задача 4. Следующее и предыдущее\n",
    "\n",
    "<p style=\"font-size: 18px;\">Напишите программу, которая считывает целое число и выводит текст:</p>\n",
    "\n",
    "<p style=\"font-size: 18px;\">Число <b>17</b></p>\n",
    "<ul>\n",
    "    <li>Следующее число: 18</li>\n",
    "    <li>Предыдущее число: 16</li>\n",
    "</ul>"
   ],
   "metadata": {
    "collapsed": false,
    "pycharm": {
     "name": "#%% md\n"
    }
   }
  },
  {
   "cell_type": "code",
   "execution_count": 17,
   "outputs": [
    {
     "name": "stdout",
     "output_type": "stream",
     "text": [
      "Следующее 124\n",
      "Предыдущее 122\n"
     ]
    }
   ],
   "source": [
    "a = int(input('Введите число: '))\n",
    "\n",
    "print('Следующее', a + 1)\n",
    "print('Предыдущее', a - 1)"
   ],
   "metadata": {
    "collapsed": false,
    "pycharm": {
     "name": "#%%\n"
    }
   }
  },
  {
   "cell_type": "markdown",
   "source": [
    "## Задача 5. Произведение цифр\n",
    "\n",
    "<p style=\"font-size: 18px\">Задано трёхзначное число <code><b>n</b></code>. Определить произведение его цифр.</p>"
   ],
   "metadata": {
    "collapsed": false,
    "pycharm": {
     "name": "#%% md\n"
    }
   }
  },
  {
   "cell_type": "code",
   "execution_count": 18,
   "outputs": [
    {
     "name": "stdout",
     "output_type": "stream",
     "text": [
      "0\n"
     ]
    }
   ],
   "source": [
    "n = int(input('Введите число: '))\n",
    "hundreds = n // 100\n",
    "tens = n % 100 // 10\n",
    "units = n % 10\n",
    "print(hundreds * tens * units)"
   ],
   "metadata": {
    "collapsed": false,
    "pycharm": {
     "name": "#%%\n"
    }
   }
  },
  {
   "cell_type": "markdown",
   "source": [
    "## Задача 6. Время\n",
    "<p style=\"font-size: 18px\">Пользователь вводит количество секунд <code><b>s</b></code>. Нужно перевести это значение в часы, минуты и секунды. Например: <code><b>s = 254</b></code><br>Часы: <b>0</b>, Минуты <b>4</b>, секунды <b>14</b>.</p>"
   ],
   "metadata": {
    "collapsed": false,
    "pycharm": {
     "name": "#%% md\n"
    }
   }
  },
  {
   "cell_type": "code",
   "execution_count": 19,
   "outputs": [
    {
     "name": "stdout",
     "output_type": "stream",
     "text": [
      "2 часов, 0 минут, 21 секунд.\n"
     ]
    }
   ],
   "source": [
    "s = int(input('Введите секунды: '))\n",
    "\n",
    "hours = s // 3600\n",
    "minutes = s // 60 % 60\n",
    "seconds = s % 60\n",
    "\n",
    "print(hours, 'часов,', minutes, 'минут,', seconds, 'секунд.')"
   ],
   "metadata": {
    "collapsed": false,
    "pycharm": {
     "name": "#%%\n"
    }
   }
  },
  {
   "cell_type": "markdown",
   "source": [
    "## Задача 7. Экскурсия\n",
    "\n",
    "<p style=\"font-size: 18px;\">Ученики 8-В класса на осенние каникулы решили поехать на экскурсию в столицу. Зная количество мальчиков <code>n</code> и девочек <code>m</code>, определить, сколько необходимо заказать комнат в отеле, в котором имеются комнаты на <code>k</code> мест каждая, при условии что мальчиков и девочек поселять вместе запрещено.</p>"
   ],
   "metadata": {
    "collapsed": false,
    "pycharm": {
     "name": "#%% md\n"
    }
   }
  },
  {
   "cell_type": "code",
   "execution_count": 20,
   "outputs": [
    {
     "name": "stdout",
     "output_type": "stream",
     "text": [
      "Комнат для мальчиков: 18\n",
      "Комнат для девочек: 4\n"
     ]
    }
   ],
   "source": [
    "n = int(input('Сколько мальчиков? '))\n",
    "m = int(input('Сколько девочек? '))\n",
    "k = int(input('Сколько мест в комнате? '))\n",
    "\n",
    "res_m = n // k \n",
    "if n % k > 0:\n",
    "    res_m += 1\n",
    "    \n",
    "res_g = m // k\n",
    "if m % k > 0:\n",
    "    res_g += 1\n",
    "    \n",
    "print('Комнат для мальчиков:', res_m)\n",
    "print('Комнат для девочек:', res_g)"
   ],
   "metadata": {
    "collapsed": false,
    "pycharm": {
     "name": "#%%\n"
    }
   }
  },
  {
   "cell_type": "code",
   "execution_count": 20,
   "outputs": [],
   "source": [],
   "metadata": {
    "collapsed": false,
    "pycharm": {
     "name": "#%%\n"
    }
   }
  },
  {
   "cell_type": "code",
   "execution_count": 1,
   "metadata": {},
   "outputs": [
    {
     "name": "stdout",
     "output_type": "stream",
     "text": [
      "Введите число: 2.56\n",
      "Введите число: 89\n",
      "Введите число: -8.43\n",
      "83.13\n"
     ]
    }
   ],
   "source": [
    "num1 = eval(input('Введите число: '))\n",
    "num2 = eval(input('Введите число: '))\n",
    "num3 = eval(input('Введите число: '))\n",
    "\n",
    "print(num1 + num2 + num3)"
   ]
  },
  {
   "cell_type": "markdown",
   "metadata": {},
   "source": [
    "<p style=\"font-size: 16px;\">Функция <code>eval()</code> в данном случае нужна для того, чтобы в переменную пользователь мог вписывать и целые числа, и десятичные дроби.</p>\n",
    "\n",
    "## Задача 2. Площадь прямоугольного треугольника\n",
    "\n",
    "<p style=\"font-size: 16px;\">Напишите программу, которая считывает длины двух катетов в прямоугольном треугольнике и выводит его площадь. Каждое число записано в отдельной переменной.</p>\n",
    "\n",
    "<p style=\"font-size: 16px;\">Формула нахождения площади: <code><b>1/2 * b * h</b></code></p>"
   ]
  },
  {
   "cell_type": "code",
   "execution_count": 2,
   "metadata": {},
   "outputs": [
    {
     "name": "stdout",
     "output_type": "stream",
     "text": [
      "Введите основание: 8\n",
      "Введите высоту: 4\n",
      "16.0\n"
     ]
    }
   ],
   "source": [
    "b = int(input('Введите основание: '))\n",
    "h = int(input('Введите высоту: '))\n",
    "\n",
    "print(0.5 * (b * h))"
   ]
  },
  {
   "cell_type": "markdown",
   "metadata": {},
   "source": [
    "## Задача 3. Дележ яблок\n",
    "\n",
    "<p style=\"font-size: 16px\"><code>n</code> школьников делят <code>k</code> яблок поровну, неделящийся остаток остается в корзинке. Сколько яблок достанется каждому школьнику? Сколько яблок останется в корзинке? Программа получает на вход числа <code>n</code> и <code>k</code> и должна вывести искомое количество яблок (два числа).</p>"
   ]
  },
  {
   "cell_type": "code",
   "execution_count": 5,
   "metadata": {},
   "outputs": [
    {
     "name": "stdout",
     "output_type": "stream",
     "text": [
      "Сколько школьников? 13\n",
      "Сколько яблок? 28\n",
      "2 получит яблок каждый\n",
      "2 останется в корзинке\n"
     ]
    }
   ],
   "source": [
    "n = int(input('Сколько школьников? '))\n",
    "k = int(input('Сколько яблок? '))\n",
    "\n",
    "print(k // n, 'получит яблок каждый')\n",
    "print(k % n, 'останется в корзинке')"
   ]
  },
  {
   "cell_type": "markdown",
   "metadata": {},
   "source": [
    "## Задача 4. Следующее и предыдущее\n",
    "\n",
    "<p style=\"font-size: 18px;\">Напишите программу, которая считывает целое число и выводит текст:</p>\n",
    "\n",
    "<p style=\"font-size: 18px;\">Число <b>17</b></p>\n",
    "<ul>\n",
    "    <li>Следующее число: 18</li>\n",
    "    <li>Предыдущее число: 16</li>\n",
    "</ul>"
   ]
  },
  {
   "cell_type": "code",
   "execution_count": 6,
   "metadata": {},
   "outputs": [
    {
     "name": "stdout",
     "output_type": "stream",
     "text": [
      "Введите число: 12\n",
      "Следующее 13\n",
      "Предыдущее 11\n"
     ]
    }
   ],
   "source": [
    "a = int(input('Введите число: '))\n",
    "\n",
    "print('Следующее', a + 1)\n",
    "print('Предыдущее', a - 1)"
   ]
  },
  {
   "cell_type": "markdown",
   "metadata": {},
   "source": [
    "## Задача 5. Произведение цифр\n",
    "\n",
    "<p style=\"font-size: 18px\">Задано трёхзначное число <code><b>n</b></code>. Определить произведение его цифр.</p>"
   ]
  },
  {
   "cell_type": "code",
   "execution_count": 7,
   "metadata": {},
   "outputs": [
    {
     "name": "stdout",
     "output_type": "stream",
     "text": [
      "Введите число: 234\n",
      "24\n"
     ]
    }
   ],
   "source": [
    "n = int(input('Введите число: '))\n",
    "hundreds = n // 100\n",
    "tens = n % 100 // 10\n",
    "units = n % 10\n",
    "print(hundreds * tens * units)"
   ]
  },
  {
   "cell_type": "markdown",
   "metadata": {},
   "source": [
    "## Задача 6. Время\n",
    "<p style=\"font-size: 18px\">Пользователь вводит количество секунд <code><b>s</b></code>. Нужно перевести это значение в часы, минуты и секунды. Например: <code><b>s = 254</b></code><br>Часы: <b>0</b>, Минуты <b>4</b>, секунды <b>14</b>.</p>"
   ]
  },
  {
   "cell_type": "code",
   "execution_count": 11,
   "metadata": {},
   "outputs": [
    {
     "name": "stdout",
     "output_type": "stream",
     "text": [
      "Введите секунды: 7221\n",
      "2 часов, 0 минут, 21 секунд.\n"
     ]
    }
   ],
   "source": [
    "s = int(input('Введите секунды: '))\n",
    "\n",
    "hours = s // 3600\n",
    "minutes = s // 60 % 60\n",
    "seconds = s % 60\n",
    "\n",
    "print(hours, 'часов,', minutes, 'минут,', seconds, 'секунд.')"
   ]
  },
  {
   "cell_type": "markdown",
   "metadata": {},
   "source": [
    "## Задача 7. Экскурсия\n",
    "\n",
    "<p style=\"font-size: 18px;\">Ученики 8-В класса на осенние каникулы решили поехать на экскурсию в столицу. Зная количество мальчиков <code>n</code> и девочек <code>m</code>, определить, сколько необходимо заказать комнат в отеле, в котором имеются комнаты на <code>k</code> мест каждая, при условии что мальчиков и девочек поселять вместе запрещено.</p>"
   ]
  },
  {
   "cell_type": "code",
   "execution_count": 13,
   "metadata": {},
   "outputs": [
    {
     "name": "stdout",
     "output_type": "stream",
     "text": [
      "Сколько мальчиков? 52\n",
      "Сколько девочек? 24\n",
      "Сколько мест в комнате? 3\n",
      "Комнат для мальчиков: 18\n",
      "Комнат для девочек: 8\n"
     ]
    }
   ],
   "source": [
    "n = int(input('Сколько мальчиков? '))\n",
    "m = int(input('Сколько девочек? '))\n",
    "k = int(input('Сколько мест в комнате? '))\n",
    "\n",
    "res_m = n // k \n",
    "if n % k > 0:\n",
    "    res_m += 1\n",
    "    \n",
    "res_g = m // k\n",
    "if m % k > 0:\n",
    "    res_g += 1\n",
    "    \n",
    "print('Комнат для мальчиков:', res_m)\n",
    "print('Комнат для девочек:', res_g)"
   ]
  },
  {
   "cell_type": "code",
   "execution_count": null,
   "metadata": {},
   "outputs": [],
   "source": []
  }
 ],
 "metadata": {
  "kernelspec": {
   "display_name": "Python 3 (ipykernel)",
   "language": "python",
   "name": "python3"
  },
  "language_info": {
   "codemirror_mode": {
    "name": "ipython",
    "version": 3
   },
   "file_extension": ".py",
   "mimetype": "text/x-python",
   "name": "python",
   "nbconvert_exporter": "python",
   "pygments_lexer": "ipython3",
   "version": "3.9.4"
  }
 },
 "nbformat": 4,
 "nbformat_minor": 1
}