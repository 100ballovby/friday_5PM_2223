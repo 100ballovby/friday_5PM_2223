{
 "cells": [
  {
   "cell_type": "markdown",
   "metadata": {
    "collapsed": true,
    "pycharm": {
     "is_executing": true
    }
   },
   "source": [
    "# Циклы\n",
    "## Цикл <code>for</code>\n",
    "\n",
    "<p style=\"font-size: 18px;\">Цикл <code>for</code> - счетный цикл. Это означает, что у него есть переменная, которая отвечает за повторения цикла и четко знает, сколько раз цикл совершит действия, написанные в нем.</p>\n",
    "\n",
    "<p style=\"font-size: 18px;\"><pre><code>\n",
    "for <b>каждый_елемент</b> in <b>последовательность</b>:\n",
    "--->тело_цикла (действия для повторения)\n",
    "</code></pre></p>"
   ]
  },
  {
   "cell_type": "code",
   "execution_count": 19,
   "metadata": {},
   "outputs": [
    {
     "name": "stdout",
     "output_type": "stream",
     "text": [
      "Hello\n",
      "Hello\n",
      "Hello\n",
      "Hello\n"
     ]
    }
   ],
   "source": [
    "for i in 1, 2, 3, 4:\n",
    "    print('Hello')"
   ]
  },
  {
   "cell_type": "markdown",
   "metadata": {},
   "source": [
    "### функция <code>range(start, stop, step)</code>\n",
    "\n",
    "<p style=\"font-size: 18px;\">Функция строит последовательность из чисел в заданных промежутках. Но у нее существует несколько вариантов написания:</p>\n",
    "<ol style=\"font-size: 18px;\">\n",
    "    <li><code>range(5)</code> - получаете последовательность: 0, 1, 2, 3, 4</li>\n",
    "    <li><code>range(10, 16)</code> - получите последовательноость: 10, 11, 12, 13, 14, 15 - второе число (стоп) не входит в последовательность.</li>\n",
    "    <li><code>range(1, 11, 2)</code> - получите последовательность: 1, 3, 5, 7, 9 - только нечетные числа. Число <code>2</code> в функции сейчас означает шаг. То есть сколько прибавляется к каждому предыдущему элементу последовательности. По умолчанию шаг равен 1.</li>\n",
    "</ol>"
   ]
  },
  {
   "cell_type": "code",
   "execution_count": 20,
   "metadata": {},
   "outputs": [
    {
     "name": "stdout",
     "output_type": "stream",
     "text": [
      "range(0, 5)\n"
     ]
    }
   ],
   "source": [
    "print(range(5))"
   ]
  },
  {
   "cell_type": "markdown",
   "metadata": {},
   "source": [
    "<p style=\"font-size: 18px;\"><code>range</code> не отдаст вам последовательность напрямую, потому что каждый элемент последовательности отдельно высчитывается. И вы можете его получить только напрямую обратившись к нему. Например, через индекс.</p>"
   ]
  },
  {
   "cell_type": "code",
   "execution_count": 21,
   "metadata": {},
   "outputs": [
    {
     "name": "stdout",
     "output_type": "stream",
     "text": [
      "900001\n"
     ]
    }
   ],
   "source": [
    "a = range(1, 1000000)\n",
    "print(a[900000])"
   ]
  },
  {
   "cell_type": "markdown",
   "metadata": {},
   "source": [
    "<p style=\"font-size: 18px;\">В циклах у вас есть возможность не обращаться через индекс. Дело в том, что каждое число из последовательности, которую сгенерирует <code>range</code>, будет помещено в управляющую переменную цикла <code>for</code>.</p>"
   ]
  },
  {
   "cell_type": "code",
   "execution_count": 22,
   "metadata": {},
   "outputs": [
    {
     "name": "stdout",
     "output_type": "stream",
     "text": [
      "i = 0 Привет!\n",
      "i = 1 Привет!\n",
      "i = 2 Привет!\n",
      "i = 3 Привет!\n",
      "i = 4 Привет!\n",
      "i = 5 Привет!\n",
      "i = 6 Привет!\n",
      "i = 7 Привет!\n",
      "i = 8 Привет!\n",
      "i = 9 Привет!\n",
      "i = 10 Привет!\n",
      "i = 11 Привет!\n",
      "i = 12 Привет!\n",
      "i = 13 Привет!\n",
      "i = 14 Привет!\n"
     ]
    }
   ],
   "source": [
    "for i in range(15):\n",
    "    print('i =', i, 'Привет!')"
   ]
  },
  {
   "cell_type": "markdown",
   "metadata": {},
   "source": [
    "<p style=\"font-size: 18px;\">В цикле <code>for</code> помимо этой функции можно использовать абсолютно любую последовательность, даже если это строка.</p>"
   ]
  },
  {
   "cell_type": "code",
   "execution_count": 23,
   "metadata": {},
   "outputs": [
    {
     "name": "stdout",
     "output_type": "stream",
     "text": [
      "i = С Привет!\n",
      "i = а Привет!\n",
      "i = ш Привет!\n",
      "i = а Привет!\n"
     ]
    }
   ],
   "source": [
    "for i in 'Саша':\n",
    "    print('i =', i, 'Привет!')"
   ]
  },
  {
   "cell_type": "markdown",
   "metadata": {},
   "source": [
    "<p style=\"font-size: 18px;\">Иногда значения, которые записываются в переменную <code>i</code> могут быть необходимы для решения какой-либо задачи. Например, давайте напишем программу, которая получает от пользователя число и пишет таблицу умножения для этого числа до 15.</p>"
   ]
  },
  {
   "cell_type": "code",
   "execution_count": 24,
   "metadata": {},
   "outputs": [
    {
     "name": "stdout",
     "output_type": "stream",
     "text": [
      "6 * 1 = 6\n",
      "6 * 2 = 12\n",
      "6 * 3 = 18\n",
      "6 * 4 = 24\n",
      "6 * 5 = 30\n",
      "6 * 6 = 36\n",
      "6 * 7 = 42\n",
      "6 * 8 = 48\n",
      "6 * 9 = 54\n"
     ]
    }
   ],
   "source": [
    "n = int(input('Введите число: '))\n",
    "\n",
    "for number in range(1, 10):\n",
    "    print(n, '*', number, '=', n * number)"
   ]
  },
  {
   "cell_type": "markdown",
   "metadata": {},
   "source": [
    "<p style=\"font-size: 18px;\">Попробуйте написать программу, которая получает от пользователя число и рисует лесенку из звездочек. То есть: вам ввели 5, должно получиться:</p>\n",
    "\n",
    "<pre>\n",
    "*\n",
    "**\n",
    "***\n",
    "****\n",
    "*****\n",
    "</pre>"
   ]
  },
  {
   "cell_type": "code",
   "execution_count": 25,
   "metadata": {},
   "outputs": [
    {
     "name": "stdout",
     "output_type": "stream",
     "text": [
      "*\n",
      "**\n",
      "***\n",
      "****\n",
      "*****\n",
      "******\n",
      "*******\n"
     ]
    }
   ],
   "source": [
    "n = int(input('Введите число: '))\n",
    "\n",
    "for i in range(1, n + 1):  # n включительно \n",
    "    print('*' * i)"
   ]
  },
  {
   "cell_type": "code",
   "execution_count": 25,
   "metadata": {},
   "outputs": [],
   "source": []
  }
 ],
 "metadata": {
  "kernelspec": {
   "display_name": "Python 3 (ipykernel)",
   "language": "python",
   "name": "python3"
  },
  "language_info": {
   "codemirror_mode": {
    "name": "ipython",
    "version": 3
   },
   "file_extension": ".py",
   "mimetype": "text/x-python",
   "name": "python",
   "nbconvert_exporter": "python",
   "pygments_lexer": "ipython3",
   "version": "3.10.4"
  }
 },
 "nbformat": 4,
 "nbformat_minor": 1
}
